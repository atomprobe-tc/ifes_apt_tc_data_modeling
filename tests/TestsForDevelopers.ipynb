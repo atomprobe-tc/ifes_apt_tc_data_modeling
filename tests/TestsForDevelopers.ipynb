{
 "cells": [
  {
   "cell_type": "markdown",
   "id": "22301d87-0cc6-4b07-8b83-625491b7ed79",
   "metadata": {
    "tags": []
   },
   "source": [
    "## Add automated charge identification to NOMAD OASIS"
   ]
  },
  {
   "cell_type": "markdown",
   "id": "56c69c94-97f3-46c3-a2f7-0d5863ed3f16",
   "metadata": {},
   "source": [
    "Enable that the nomad-parser-nexus apm dataconverter can automatically<br>\n",
    "analyze the information for each defined range in a technology partner<br>\n",
    "atom probe ranging definition files so that for each range we can find<br>\n",
    "if it is possible to recover the charge information that is typically<br>\n",
    "not stored in such files.<br>\n",
    "\n",
    "We use a combinatorial analysis because of which the larger it is the<br>\n",
    "number of atoms in the molecular ion the substantially longer it takes<br>\n",
    "to perform the analysis for each ion. The reason is that all possible<br>\n",
    "combinations of isotopes for the elements in the definition of the range<br>\n",
    "is evaluated and checked for which charge it has and if its mass-to-charge<br>\n",
    "is in the defined \\[low, high\\] interval.<br>"
   ]
  },
  {
   "cell_type": "markdown",
   "id": "982c2a2e-2c12-4846-a13c-8be8351005bb",
   "metadata": {},
   "source": [
    "<div class=\"alert alert-block alert-danger\">\n",
    "We assume in NOMAD OASIS that isotope information is not ignored.<br>\n",
    "With this we highlight the need for storing charge state information<br>\n",
    "inside the ranging definitions file. NXion instances whose charge is<br>\n",
    "0. means that it was impossible to uniquely recover the charge because<br>\n",
    "there are multiple combinations of isotopes possible within the interval,<br>\n",
    "i.e. the analysis of that range is underconstrained.<br>\n",
    "</div>"
   ]
  },
  {
   "cell_type": "markdown",
   "id": "b0895a9b-d895-474f-80a4-e2034fda6e3f",
   "metadata": {},
   "source": [
    "## Load libs"
   ]
  },
  {
   "cell_type": "code",
   "execution_count": 1,
   "id": "fc6c2ca9-ba62-4580-8eed-223467c58b22",
   "metadata": {
    "tags": []
   },
   "outputs": [],
   "source": [
    "import os\n",
    "import numpy as np\n",
    "import h5py\n",
    "from jupyterlab_h5web import H5Web\n",
    "from ifes_apt_tc_data_modeling.utils.utils import create_isotope_vector, isotope_vector_to_dict_keyword, isotope_vector_to_human_readable_name\n",
    "from ifes_apt_tc_data_modeling.nexus.nx_ion import NxIon\n",
    "from ifes_apt_tc_data_modeling.utils.molecular_ions import MolecularIonBuilder\n",
    "from ifes_apt_tc_data_modeling.utils.utils import MAX_NUMBER_OF_ATOMS_PER_ION\n",
    "from ifes_apt_tc_data_modeling.utils.nist_isotope_data import isotopes\n",
    "from ase.data import atomic_numbers, atomic_masses, chemical_symbols"
   ]
  },
  {
   "cell_type": "markdown",
   "id": "42497a36-405e-487f-b4bc-4300cc834963",
   "metadata": {
    "tags": []
   },
   "source": [
    "## Tests with NXion and low-level stuff"
   ]
  },
  {
   "cell_type": "code",
   "execution_count": 2,
   "id": "80b197e0-3398-46ae-a920-9b14a06deb11",
   "metadata": {
    "tags": []
   },
   "outputs": [
    {
     "name": "stdout",
     "output_type": "stream",
     "text": [
      "[26 26  8  8  8  8  8  0  0  0  0  0  0  0  0  0  0  0  0  0  0  0  0  0\n",
      "  0  0  0  0  0  0  0  0]\n"
     ]
    }
   ],
   "source": [
    "# ivec = create_isotope_vector(['K-40', 'Xe-126'])  # , 'U', 'H'])\n",
    "# ivec = create_isotope_vector(['Tc', 'H', 'H'])  # 'C'])\n",
    "# ivec = create_isotope_vector(['B', 'B', 'B', 'N', 'N', 'Ti'])  # 'N', 'N'])\n",
    "# ivec = create_isotope_vector([])\n",
    "ivec = create_isotope_vector(['O', 'O', 'O', 'O'])\n",
    "ivec = create_isotope_vector(['Fe', 'Fe', 'O', 'O', 'O', 'O', 'O'])\n",
    "# ivec = create_isotope_vector(['X'])\n",
    "print(ivec)\n",
    "# print(isotope_vector_to_dict_keyword(ivec))\n",
    "# print(isotope_vector_to_human_readable_name(ivec, +4))"
   ]
  },
  {
   "cell_type": "markdown",
   "id": "d3a5210b-10d9-416d-aeb4-41a0de26e792",
   "metadata": {
    "tags": []
   },
   "source": [
    "## Take the information available in every range file."
   ]
  },
  {
   "cell_type": "code",
   "execution_count": 3,
   "id": "effca875-5883-495d-8f4c-b3a9da425f23",
   "metadata": {
    "tags": []
   },
   "outputs": [
    {
     "name": "stdout",
     "output_type": "stream",
     "text": [
      "ion_type\n",
      "\n",
      "isotope_vector\n",
      "[26 26  8  8  8  8  8  0  0  0  0  0  0  0  0  0  0  0  0  0  0  0  0  0\n",
      "  0  0  0  0  0  0  0  0]\n",
      "nuclid_list\n",
      "[[ 0  0  0  0  0  0  0  0  0  0  0  0  0  0  0  0  0  0  0  0  0  0  0  0\n",
      "   0  0  0  0  0  0  0  0]\n",
      " [26 26  8  8  8  8  8  0  0  0  0  0  0  0  0  0  0  0  0  0  0  0  0  0\n",
      "   0  0  0  0  0  0  0  0]]\n",
      "human-readable name\n",
      "Fe Fe O O O O O\n",
      "charge\n",
      "0\n",
      "ranges\n",
      "[[95.654 96.178]]\n",
      "comment\n",
      "\n",
      "color\n",
      "\n",
      "volume\n",
      "\n"
     ]
    }
   ],
   "source": [
    "ion = NxIon(isotope_vector=ivec, charge=0)\n",
    "# ion.add_range((np.floor(atomic_masses[43]) - 2.)*0.5, (np.floor(atomic_masses[43]) + 4.)*0.5)\n",
    "# ion.add_range(20.2840, 20.3680)\n",
    "# ion.add_range(54.9540, 54.9630)\n",
    "# ion.add_range(32.0050,  32.1370)\n",
    "# ion.add_range(32.4280,  32.4910)\n",
    "# ion.add_range(32.9600,  33.0640)\n",
    "# ion.add_range(33.9720,  34.0380)\n",
    "# ion.add_range(175.8060, 176.2460)\n",
    "ion.add_range(95.6540, 96.1780)\n",
    "# ion.add_range(10.5, 13.5)\n",
    "# ion.add_range(13.0, 13.3)  # should not be prevented because this is equivalent to ion.add_range(10.0, 13.3)\n",
    "ion.report()"
   ]
  },
  {
   "cell_type": "code",
   "execution_count": 4,
   "id": "fb47d42c-43a9-4e6d-a253-97848f107623",
   "metadata": {
    "tags": []
   },
   "outputs": [
    {
     "name": "stdout",
     "output_type": "stream",
     "text": [
      "MolecularIonBuilder initialized with 259\n",
      "Maximum recursion depth 7\n",
      "[26 26  8  8  8  8  8  0  0  0  0  0  0  0  0  0  0  0  0  0  0  0  0  0\n",
      "  0  0  0  0  0  0  0  0]\n",
      "Found 88 candidates!\n",
      "Reduce set of 88 candidates to a unique...\n",
      "Reduced set to 8 relevant candidates...\n",
      "8218_7194_2056_2056_2056_2056_2056__2\n",
      "7962_7194_2312_2056_2056_2056_2056__2\n",
      "7706_7706_2056_2056_2056_2056_2056__2\n",
      "7706_7194_2568_2056_2056_2056_2056__2\n",
      "7706_7194_2312_2312_2056_2056_2056__2\n",
      "7194_7194_2568_2568_2056_2056_2056__2\n",
      "7194_7194_2568_2312_2312_2056_2056__2\n",
      "7194_7194_2312_2312_2312_2312_2056__2\n",
      "Multiple relevant candidates meet all selection criteria\n",
      "Multiple relevant candidates have all the same charge 2\n"
     ]
    },
    {
     "data": {
      "text/plain": [
       "(2,\n",
       " [<ifes_apt_tc_data_modeling.utils.molecular_ions.MolecularIonCandidate at 0x7f816f73b650>,\n",
       "  <ifes_apt_tc_data_modeling.utils.molecular_ions.MolecularIonCandidate at 0x7f816f29bb10>,\n",
       "  <ifes_apt_tc_data_modeling.utils.molecular_ions.MolecularIonCandidate at 0x7f816f765d90>,\n",
       "  <ifes_apt_tc_data_modeling.utils.molecular_ions.MolecularIonCandidate at 0x7f81987d3390>,\n",
       "  <ifes_apt_tc_data_modeling.utils.molecular_ions.MolecularIonCandidate at 0x7f816f3dc1d0>,\n",
       "  <ifes_apt_tc_data_modeling.utils.molecular_ions.MolecularIonCandidate at 0x7f816ef3bfd0>,\n",
       "  <ifes_apt_tc_data_modeling.utils.molecular_ions.MolecularIonCandidate at 0x7f816ef3bf10>,\n",
       "  <ifes_apt_tc_data_modeling.utils.molecular_ions.MolecularIonCandidate at 0x7f816ef85ed0>])"
      ]
     },
     "execution_count": 4,
     "metadata": {},
     "output_type": "execute_result"
    }
   ],
   "source": [
    "mion = MolecularIonBuilder(min_abundance=0.,\n",
    "                           min_abundance_product=0.,\n",
    "                           min_half_life=np.inf,\n",
    "                           sacrifice_uniqueness=True,\n",
    "                           verbose=True)\n",
    "mion.combinatorics(\n",
    "    ion.isotope_vector.typed_value,\n",
    "    ion.ranges.typed_value[0, 0],\n",
    "    ion.ranges.typed_value[0, 1])"
   ]
  },
  {
   "cell_type": "markdown",
   "id": "e045474d-0801-4686-abf3-1463771e2ddf",
   "metadata": {
    "jp-MarkdownHeadingCollapsed": true,
    "tags": []
   },
   "source": [
    "## RRNG"
   ]
  },
  {
   "cell_type": "code",
   "execution_count": null,
   "id": "9298da11-00d1-45c9-9bb1-d17737c20c49",
   "metadata": {},
   "outputs": [],
   "source": [
    "from ifes_apt_tc_data_modeling.rrng.rrng_reader import ReadRrngFileFormat"
   ]
  },
  {
   "cell_type": "code",
   "execution_count": null,
   "id": "a278233b-0891-4627-8b40-312600aa59d0",
   "metadata": {},
   "outputs": [],
   "source": [
    "fnm = []"
   ]
  },
  {
   "cell_type": "code",
   "execution_count": null,
   "id": "511fa6d8-de91-413c-af9b-71723c1b2ec9",
   "metadata": {},
   "outputs": [],
   "source": [
    "# directory = os.getcwd()\n",
    "# directory += '/rrng/examples_without_provenance/aut_leoben_reichmann/'\n",
    "# print(directory)"
   ]
  },
  {
   "cell_type": "code",
   "execution_count": null,
   "id": "5e6901de-c5ec-4b5b-8d94-4deaa15f89e7",
   "metadata": {
    "tags": []
   },
   "outputs": [],
   "source": [
    "# for filename in os.listdir(directory):\n",
    "for filename in fnm:\n",
    "    if filename.lower().endswith(\".rrng\"):\n",
    "        print(filename)\n",
    "        if True is True:  # if filename in []:\n",
    "            # a = ReadRrngFileFormat(directory + \"/\" + filename)\n",
    "            a = ReadRrngFileFormat(filename)\n",
    "            # a.rrng['molecular_ions']\n",
    "            \n",
    "            # h5w = h5py.File(directory + \"/\" + filename + \".nxs\", 'w')\n",
    "            h5w = h5py.File(filename + \".nxs\", 'w')\n",
    "            h5w.create_group(\"/entry\")\n",
    "            i = 1\n",
    "            for ion in a.rrng['molecular_ions']:\n",
    "                trg = \"/entry/ion\" + str(i)\n",
    "                grp = h5w.create_group(trg)\n",
    "                grp.attrs['NXclass'] = 'NXion'\n",
    "                dst = h5w.create_dataset(trg + \"/comment\", data=ion.comment.typed_value)\n",
    "                dst = h5w.create_dataset(trg + \"/color\", data=ion.color.typed_value)\n",
    "                dst = h5w.create_dataset(trg + \"/volume\", dtype=np.float32,\n",
    "                                         data=ion.volume.typed_value)\n",
    "                dst.attrs['unit'] = 'nm^3'\n",
    "                dst = h5w.create_dataset(trg + \"/isotope_vector\", dtype=np.uint16,\n",
    "                                         data=ion.isotope_vector.typed_value, \n",
    "                                         chunks=True, compression=\"gzip\", compression_opts=1)\n",
    "                dst = h5w.create_dataset(trg + \"/nuclid_list\", dtype=np.uint16,\n",
    "                                         data=ion.nuclid_list.typed_value,\n",
    "                                         chunks=True, compression=\"gzip\", compression_opts=1)\n",
    "                dst = h5w.create_dataset(trg + \"/charge\", dtype=np.int8,\n",
    "                                         data=ion.charge.typed_value)\n",
    "                dst.attrs['unit'] = 'eV'\n",
    "                dst = h5w.create_dataset(trg + \"/name\", data=ion.name.typed_value)\n",
    "                # print(ion.name.typed_value)\n",
    "                dst = h5w.create_dataset(trg+ \"/mass_to_charge_range\", dtype=np.float32,\n",
    "                                         data=ion.ranges.typed_value)\n",
    "                dst.attrs['unit'] = 'Da'\n",
    "                \n",
    "                # charge model\n",
    "                subgrpnm = trg + \"/charge_model\"\n",
    "                subgrp = h5w.create_group(subgrpnm)\n",
    "                subgrp.attrs['NXclass'] = \"NXprocess\"\n",
    "                dst = h5w.create_dataset(subgrpnm + \"/min_abundance\", dtype=np.float64,\n",
    "                                         data=ion.charge_model['min_abundance'])\n",
    "                dst = h5w.create_dataset(subgrpnm + \"/min_abundance_product\", dtype=np.float64,\n",
    "                                         data=ion.charge_model['min_abundance_product'])\n",
    "                dst = h5w.create_dataset(subgrpnm + \"/min_half_life\", dtype=np.float64,\n",
    "                                         data=ion.charge_model['min_half_life'])\n",
    "                dst.attrs['unit'] = 's'\n",
    "                dst = h5w.create_dataset(subgrpnm + \"/sacrifice_isotopic_uniqueness\", dtype=np.uint8,\n",
    "                                         data=ion.charge_model['sacrifice_isotopic_uniqueness'])\n",
    "                dst = h5w.create_dataset(subgrpnm + \"/isotope_matrix\", dtype=np.uint16,\n",
    "                                         data=ion.charge_model['isotope_matrix'],\n",
    "                                         chunks=True, compression=\"gzip\", compression_opts=1)\n",
    "                dst = h5w.create_dataset(subgrpnm + \"/charge_vector\", dtype=np.int8,\n",
    "                                         data=ion.charge_model['charge_vector'])\n",
    "                dst.attrs['unit'] = 'eV'\n",
    "                dst = h5w.create_dataset(subgrpnm + \"/mass_vector\", dtype=np.float64,\n",
    "                                         data=ion.charge_model['mass_vector'])\n",
    "                dst.attrs['unit'] = 'Da'\n",
    "                dst = h5w.create_dataset(subgrpnm + \"/nat_abun_prod_vector\", dtype=np.float64,\n",
    "                                         data=ion.charge_model['nat_abun_prod_vector'])\n",
    "                dst = h5w.create_dataset(subgrpnm + \"/min_half_life_vector\", dtype=np.float64,\n",
    "                                         data=ion.charge_model['min_half_life_vector'])\n",
    "                dst.attrs['unit'] = 's'\n",
    "                       \n",
    "                i += 1\n",
    "            h5w.close()"
   ]
  },
  {
   "cell_type": "code",
   "execution_count": null,
   "id": "130da751-6a8a-43b4-9879-be2dbad5c8dd",
   "metadata": {},
   "outputs": [],
   "source": [
    "# H5Web(directory + \"/\" + \"R23_Mass.nxs\")\n",
    "H5Web(filename)"
   ]
  },
  {
   "cell_type": "markdown",
   "id": "9ea7c00f-e3f4-4ac1-bfd5-449303a702a1",
   "metadata": {
    "jp-MarkdownHeadingCollapsed": true,
    "tags": []
   },
   "source": [
    "## RNG"
   ]
  },
  {
   "cell_type": "code",
   "execution_count": null,
   "id": "7dbf60e5-6c02-40d6-a2d7-72a8c96bda87",
   "metadata": {},
   "outputs": [],
   "source": [
    "from ifes_apt_tc_data_modeling.rng.rng_reader import ReadRngFileFormat"
   ]
  },
  {
   "cell_type": "code",
   "execution_count": null,
   "id": "203470c0-5ee2-4483-b986-df3b7057c940",
   "metadata": {},
   "outputs": [],
   "source": [
    "fnm = []"
   ]
  },
  {
   "cell_type": "code",
   "execution_count": null,
   "id": "07e2fb8e-1953-4780-90ba-1c8e69d8989a",
   "metadata": {},
   "outputs": [],
   "source": [
    "# directory = os.getcwd()\n",
    "# directory += '/rng/examples_without_provenance/ger_duesseldorf_kuehbach/'\n",
    "# print(directory)"
   ]
  },
  {
   "cell_type": "code",
   "execution_count": null,
   "id": "7fba02a1-e60c-4797-9ade-332138fe72d7",
   "metadata": {
    "tags": []
   },
   "outputs": [],
   "source": [
    "# for filename in os.listdir(directory):\n",
    "for filename in fnm:\n",
    "    if filename.lower().endswith(\".rng\"):\n",
    "        print(filename)\n",
    "        if True is True:  # if filename in []:\n",
    "            # a = ReadRngFileFormat(directory + \"/\" + filename)\n",
    "            a = ReadRngFileFormat(filename)\n",
    "            # a.rng['molecular_ions']\n",
    "            \n",
    "            # h5w = h5py.File(directory + \"/\" + filename + \".nxs\", 'w')\n",
    "            h5w = h5py.File(filename + \".nxs\", 'w')\n",
    "            h5w.create_group(\"/entry\")\n",
    "            i = 1\n",
    "            for ion in a.rng['molecular_ions']:\n",
    "                trg = \"/entry/ion\" + str(i)\n",
    "                grp = h5w.create_group(trg)\n",
    "                grp.attrs['NXclass'] = 'NXion'\n",
    "                dst = h5w.create_dataset(trg + \"/comment\", data=ion.comment.typed_value)\n",
    "                dst = h5w.create_dataset(trg + \"/color\", data=ion.color.typed_value)\n",
    "                dst = h5w.create_dataset(trg + \"/volume\", dtype=np.float32,\n",
    "                                         data=ion.volume.typed_value)\n",
    "                dst.attrs['unit'] = 'nm^3'\n",
    "                dst = h5w.create_dataset(trg + \"/isotope_vector\", dtype=np.uint16,\n",
    "                                         data=ion.isotope_vector.typed_value, \n",
    "                                         chunks=True, compression=\"gzip\", compression_opts=1)\n",
    "                dst = h5w.create_dataset(trg + \"/nuclid_list\", dtype=np.uint16,\n",
    "                                         data=ion.nuclid_list.typed_value,\n",
    "                                         chunks=True, compression=\"gzip\", compression_opts=1)\n",
    "                dst = h5w.create_dataset(trg + \"/charge\", dtype=np.int8,\n",
    "                                         data=ion.charge.typed_value)\n",
    "                dst.attrs['unit'] = 'eV'\n",
    "                dst = h5w.create_dataset(trg + \"/name\", data=ion.name.typed_value)\n",
    "                # print(ion.name.typed_value)\n",
    "                dst = h5w.create_dataset(trg+ \"/mass_to_charge_range\", dtype=np.float32,\n",
    "                                         data=ion.ranges.typed_value)\n",
    "                dst.attrs['unit'] = 'Da'\n",
    "                \n",
    "                # charge model\n",
    "                subgrpnm = trg + \"/charge_model\"\n",
    "                subgrp = h5w.create_group(subgrpnm)\n",
    "                subgrp.attrs['NXclass'] = \"NXprocess\"\n",
    "                dst = h5w.create_dataset(subgrpnm + \"/min_abundance\", dtype=np.float64,\n",
    "                                         data=ion.charge_model['min_abundance'])\n",
    "                dst = h5w.create_dataset(subgrpnm + \"/min_abundance_product\", dtype=np.float64,\n",
    "                                         data=ion.charge_model['min_abundance_product'])\n",
    "                dst = h5w.create_dataset(subgrpnm + \"/min_half_life\", dtype=np.float64,\n",
    "                                         data=ion.charge_model['min_half_life'])\n",
    "                dst.attrs['unit'] = 's'\n",
    "                dst = h5w.create_dataset(subgrpnm + \"/sacrifice_isotopic_uniqueness\", dtype=np.uint8,\n",
    "                                         data=ion.charge_model['sacrifice_isotopic_uniqueness'])\n",
    "                dst = h5w.create_dataset(subgrpnm + \"/isotope_matrix\", dtype=np.uint16,\n",
    "                                         data=ion.charge_model['isotope_matrix'],\n",
    "                                         chunks=True, compression=\"gzip\", compression_opts=1)\n",
    "                dst = h5w.create_dataset(subgrpnm + \"/charge_vector\", dtype=np.int8,\n",
    "                                         data=ion.charge_model['charge_vector'])\n",
    "                dst.attrs['unit'] = 'eV'\n",
    "                dst = h5w.create_dataset(subgrpnm + \"/mass_vector\", dtype=np.float64,\n",
    "                                         data=ion.charge_model['mass_vector'])\n",
    "                dst.attrs['unit'] = 'Da'\n",
    "                dst = h5w.create_dataset(subgrpnm + \"/nat_abun_prod_vector\", dtype=np.float64,\n",
    "                                         data=ion.charge_model['nat_abun_prod_vector'])\n",
    "                dst = h5w.create_dataset(subgrpnm + \"/min_half_life_vector\", dtype=np.float64,\n",
    "                                         data=ion.charge_model['min_half_life_vector'])\n",
    "                dst.attrs['unit'] = 's'\n",
    "                       \n",
    "                i += 1\n",
    "            h5w.close()"
   ]
  },
  {
   "cell_type": "code",
   "execution_count": null,
   "id": "d50d0c2a-c08a-4b47-ba53-85a6e07838e2",
   "metadata": {},
   "outputs": [],
   "source": [
    "# H5Web(directory + \"/\" + filename)\n",
    "H5Web(filename)"
   ]
  },
  {
   "cell_type": "markdown",
   "id": "83369dab-5ce9-4c9e-810e-58e9f8bb93cc",
   "metadata": {},
   "source": [
    "## Matlab FIG"
   ]
  },
  {
   "cell_type": "code",
   "execution_count": null,
   "id": "0baf8109-e03a-4141-91d1-38da86f05df5",
   "metadata": {},
   "outputs": [],
   "source": [
    "from ifes_apt_tc_data_modeling.fig.fig_reader import ReadFigTxtFileFormat"
   ]
  },
  {
   "cell_type": "code",
   "execution_count": 2,
   "id": "856ebd71-8b84-402e-868a-66e756e7b8c2",
   "metadata": {},
   "outputs": [],
   "source": [
    "fnm = [\"R56_01769.rng.fig.txt\"]"
   ]
  },
  {
   "cell_type": "code",
   "execution_count": 4,
   "id": "67356936-1f5e-4363-9b3e-2e9b849aeb32",
   "metadata": {},
   "outputs": [
    {
     "name": "stdout",
     "output_type": "stream",
     "text": [
      "/home/mkuehbach/IFES_APT_TC_RELEASE_GITHUB/ifes_apt_tc_data_modeling/tests/data\n"
     ]
    }
   ],
   "source": [
    "directory = os.getcwd()\n",
    "# directory += '/rng/examples_without_provenance/ger_duesseldorf_kuehbach/'\n",
    "print(directory)"
   ]
  },
  {
   "cell_type": "code",
   "execution_count": null,
   "id": "32845a28-d656-4af5-b8a7-aa6fd15bebc5",
   "metadata": {
    "tags": []
   },
   "outputs": [],
   "source": [
    "# for filename in os.listdir(directory):\n",
    "for filename in fnm:\n",
    "    if filename.lower().endswith(\".rng\"):\n",
    "        print(filename)\n",
    "        if True is True:  # if filename in []:\n",
    "            # a = ReadRngFileFormat(directory + \"/\" + filename)\n",
    "            a = ReadRngFileFormat(filename)\n",
    "            # a.rng['molecular_ions']\n",
    "            \n",
    "            # h5w = h5py.File(directory + \"/\" + filename + \".nxs\", 'w')\n",
    "            h5w = h5py.File(filename + \".nxs\", 'w')\n",
    "            h5w.create_group(\"/entry\")\n",
    "            i = 1\n",
    "            for ion in a.rng['molecular_ions']:\n",
    "                trg = \"/entry/ion\" + str(i)\n",
    "                grp = h5w.create_group(trg)\n",
    "                grp.attrs['NXclass'] = 'NXion'\n",
    "                dst = h5w.create_dataset(trg + \"/comment\", data=ion.comment.typed_value)\n",
    "                dst = h5w.create_dataset(trg + \"/color\", data=ion.color.typed_value)\n",
    "                dst = h5w.create_dataset(trg + \"/volume\", dtype=np.float32,\n",
    "                                         data=ion.volume.typed_value)\n",
    "                dst.attrs['unit'] = 'nm^3'\n",
    "                dst = h5w.create_dataset(trg + \"/isotope_vector\", dtype=np.uint16,\n",
    "                                         data=ion.isotope_vector.typed_value, \n",
    "                                         chunks=True, compression=\"gzip\", compression_opts=1)\n",
    "                dst = h5w.create_dataset(trg + \"/nuclid_list\", dtype=np.uint16,\n",
    "                                         data=ion.nuclid_list.typed_value,\n",
    "                                         chunks=True, compression=\"gzip\", compression_opts=1)\n",
    "                dst = h5w.create_dataset(trg + \"/charge\", dtype=np.int8,\n",
    "                                         data=ion.charge.typed_value)\n",
    "                dst.attrs['unit'] = 'eV'\n",
    "                dst = h5w.create_dataset(trg + \"/name\", data=ion.name.typed_value)\n",
    "                # print(ion.name.typed_value)\n",
    "                dst = h5w.create_dataset(trg+ \"/mass_to_charge_range\", dtype=np.float32,\n",
    "                                         data=ion.ranges.typed_value)\n",
    "                dst.attrs['unit'] = 'Da'\n",
    "                \n",
    "                # charge model\n",
    "                subgrpnm = trg + \"/charge_model\"\n",
    "                subgrp = h5w.create_group(subgrpnm)\n",
    "                subgrp.attrs['NXclass'] = \"NXprocess\"\n",
    "                dst = h5w.create_dataset(subgrpnm + \"/min_abundance\", dtype=np.float64,\n",
    "                                         data=ion.charge_model['min_abundance'])\n",
    "                dst = h5w.create_dataset(subgrpnm + \"/min_abundance_product\", dtype=np.float64,\n",
    "                                         data=ion.charge_model['min_abundance_product'])\n",
    "                dst = h5w.create_dataset(subgrpnm + \"/min_half_life\", dtype=np.float64,\n",
    "                                         data=ion.charge_model['min_half_life'])\n",
    "                dst.attrs['unit'] = 's'\n",
    "                dst = h5w.create_dataset(subgrpnm + \"/sacrifice_isotopic_uniqueness\", dtype=np.uint8,\n",
    "                                         data=ion.charge_model['sacrifice_isotopic_uniqueness'])\n",
    "                dst = h5w.create_dataset(subgrpnm + \"/isotope_matrix\", dtype=np.uint16,\n",
    "                                         data=ion.charge_model['isotope_matrix'],\n",
    "                                         chunks=True, compression=\"gzip\", compression_opts=1)\n",
    "                dst = h5w.create_dataset(subgrpnm + \"/charge_vector\", dtype=np.int8,\n",
    "                                         data=ion.charge_model['charge_vector'])\n",
    "                dst.attrs['unit'] = 'eV'\n",
    "                dst = h5w.create_dataset(subgrpnm + \"/mass_vector\", dtype=np.float64,\n",
    "                                         data=ion.charge_model['mass_vector'])\n",
    "                dst.attrs['unit'] = 'Da'\n",
    "                dst = h5w.create_dataset(subgrpnm + \"/nat_abun_prod_vector\", dtype=np.float64,\n",
    "                                         data=ion.charge_model['nat_abun_prod_vector'])\n",
    "                dst = h5w.create_dataset(subgrpnm + \"/min_half_life_vector\", dtype=np.float64,\n",
    "                                         data=ion.charge_model['min_half_life_vector'])\n",
    "                dst.attrs['unit'] = 's'\n",
    "                       \n",
    "                i += 1\n",
    "            h5w.close()"
   ]
  },
  {
   "cell_type": "code",
   "execution_count": null,
   "id": "535f5a77-8f48-4573-8f4f-1a1520ad059c",
   "metadata": {},
   "outputs": [],
   "source": [
    "# H5Web(directory + \"/\" + filename)\n",
    "H5Web(filename)"
   ]
  },
  {
   "cell_type": "markdown",
   "id": "0ab488b6-ddb3-4507-8f4e-de1c425106d6",
   "metadata": {
    "jp-MarkdownHeadingCollapsed": true,
    "tags": []
   },
   "source": [
    "## POS"
   ]
  },
  {
   "cell_type": "code",
   "execution_count": null,
   "id": "4d2e7622-ea40-4055-921d-5a36cc1a6081",
   "metadata": {},
   "outputs": [],
   "source": [
    "from ifes_apt_tc_data_modeling.pos.pos_reader import ReadPosFileFormat"
   ]
  },
  {
   "cell_type": "code",
   "execution_count": null,
   "id": "2aa99006-ec67-4a67-a06a-e0417a6e4bf3",
   "metadata": {},
   "outputs": [],
   "source": [
    "fnm = []"
   ]
  },
  {
   "cell_type": "code",
   "execution_count": null,
   "id": "68393998-0b36-4527-b507-6a45905f4e3d",
   "metadata": {},
   "outputs": [],
   "source": [
    "for filename in fnm:\n",
    "    pos = ReadPosFileFormat(filename)\n",
    "    print(pos.filename)\n",
    "    print(pos.filesize)\n",
    "    xyz = pos.get_reconstructed_positions()\n",
    "    print(np.shape(xyz.typed_value))\n",
    "    mq = pos.get_mass_to_charge()\n",
    "    print(np.shape(mq.typed_value))"
   ]
  },
  {
   "cell_type": "markdown",
   "id": "6c15a0a4-b22e-4d97-9ba1-b58d38fa84d9",
   "metadata": {
    "jp-MarkdownHeadingCollapsed": true,
    "tags": []
   },
   "source": [
    "## ePOS"
   ]
  },
  {
   "cell_type": "code",
   "execution_count": null,
   "id": "b76a25f7-f87a-4c50-aa08-8a620da466cc",
   "metadata": {},
   "outputs": [],
   "source": [
    "from ifes_apt_tc_data_modeling.epos.epos_reader import ReadEposFileFormat"
   ]
  },
  {
   "cell_type": "code",
   "execution_count": null,
   "id": "4b4e8c10-4b69-492e-ab21-e6f81cce91be",
   "metadata": {},
   "outputs": [],
   "source": [
    "fnm = []"
   ]
  },
  {
   "cell_type": "code",
   "execution_count": null,
   "id": "923f5022-2cce-4035-a405-ad63a8278a53",
   "metadata": {},
   "outputs": [],
   "source": [
    "for filename in fnm:\n",
    "    epos = ReadEposFileFormat(filename)\n",
    "    print(epos.filename)\n",
    "    print(epos.filesize)\n",
    "    xyz = epos.get_reconstructed_positions()\n",
    "    print(np.shape(xyz.typed_value))\n",
    "    mq = epos.get_mass_to_charge()\n",
    "    print(np.shape(mq.typed_value))\n",
    "    raw_tof = epos.get_raw_time_of_flight()\n",
    "    print(np.shape(raw_tof.typed_value))\n",
    "    st_v = epos.get_standing_voltage()\n",
    "    print(np.shape(st_v.typed_value))\n",
    "    p_v = epos.get_pulse_voltage()\n",
    "    print(np.shape(p_v.typed_value))\n",
    "    det_xy = epos.get_hit_positions()\n",
    "    print(np.shape(det_xy.typed_value))\n",
    "    n_p = epos.get_number_of_pulses()\n",
    "    print(np.shape(n_p.typed_value))\n",
    "    h_p = epos.get_ions_per_pulse()\n",
    "    print(np.shape(h_p.typed_value))"
   ]
  },
  {
   "cell_type": "markdown",
   "id": "8783c551-27b2-4902-93c4-2187b1ba0fab",
   "metadata": {
    "tags": []
   },
   "source": [
    "## APT"
   ]
  },
  {
   "cell_type": "code",
   "execution_count": null,
   "id": "420ca252-0566-48c0-bf0e-82303c0f8eff",
   "metadata": {},
   "outputs": [],
   "source": [
    "from ifes_apt_tc_data_modeling.apt.apt6_reader import ReadAptFileFormat"
   ]
  },
  {
   "cell_type": "code",
   "execution_count": null,
   "id": "1d9ff170-6dea-4e4f-affc-3e3ad3a73c62",
   "metadata": {},
   "outputs": [],
   "source": [
    "fnm = []"
   ]
  },
  {
   "cell_type": "code",
   "execution_count": null,
   "id": "441fbc57-3cac-485e-88c8-917f0f9be7d0",
   "metadata": {},
   "outputs": [],
   "source": [
    "for filename in fnm:\n",
    "    apt = ReadAptFileFormat(filename)\n",
    "    apt.get_metadata_table()\n",
    "    # xyz = apt.get_reconstructed_positions()\n",
    "    # print(np.shape(xyz.typed_value))\n",
    "    # mq = apt.get_mass_to_charge_state_ratios()\n",
    "    # print(np.shape(mq.typed_value))"
   ]
  },
  {
   "cell_type": "markdown",
   "id": "01d8ecc4-655c-4ed5-84b4-dd4d3721a708",
   "metadata": {},
   "source": [
    "***\n",
    "Markus Kühbach 2023/03/20"
   ]
  },
  {
   "cell_type": "code",
   "execution_count": null,
   "id": "513a176a-c354-4ef2-95fa-d598b08f42af",
   "metadata": {},
   "outputs": [],
   "source": []
  }
 ],
 "metadata": {
  "kernelspec": {
   "display_name": "Python 3 (ipykernel)",
   "language": "python",
   "name": "python3"
  },
  "language_info": {
   "codemirror_mode": {
    "name": "ipython",
    "version": 3
   },
   "file_extension": ".py",
   "mimetype": "text/x-python",
   "name": "python",
   "nbconvert_exporter": "python",
   "pygments_lexer": "ipython3",
   "version": "3.8.16"
  }
 },
 "nbformat": 4,
 "nbformat_minor": 5
}
