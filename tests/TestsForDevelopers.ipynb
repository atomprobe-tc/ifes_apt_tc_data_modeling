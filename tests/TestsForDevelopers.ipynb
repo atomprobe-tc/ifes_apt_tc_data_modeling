{
 "cells": [
  {
   "cell_type": "markdown",
   "id": "22301d87-0cc6-4b07-8b83-625491b7ed79",
   "metadata": {
    "tags": []
   },
   "source": [
    "# How to use the ifes_apt_tc_data_modeling library"
   ]
  },
  {
   "cell_type": "markdown",
   "id": "b0895a9b-d895-474f-80a4-e2034fda6e3f",
   "metadata": {},
   "source": [
    "## Load ifes_apt_tc_data_modeling library"
   ]
  },
  {
   "cell_type": "code",
   "execution_count": null,
   "id": "fc6c2ca9-ba62-4580-8eed-223467c58b22",
   "metadata": {
    "tags": []
   },
   "outputs": [],
   "source": [
    "import re\n",
    "import os\n",
    "import numpy as np\n",
    "import h5py\n",
    "import pandas as pd\n",
    "from jupyterlab_h5web import H5Web\n",
    "from ifes_apt_tc_data_modeling.utils.utils import create_isotope_vector, \\\n",
    "    isotope_vector_to_dict_keyword, isotope_vector_to_human_readable_name, \\\n",
    "    isotope_to_hash, hash_to_isotope\n",
    "from ifes_apt_tc_data_modeling.nexus.nx_ion import NxIon\n",
    "from ifes_apt_tc_data_modeling.utils.molecular_ions import MolecularIonBuilder\n",
    "from ifes_apt_tc_data_modeling.utils.utils import MAX_NUMBER_OF_ATOMS_PER_ION\n",
    "from ifes_apt_tc_data_modeling.utils.nist_isotope_data import isotopes\n",
    "from ase.data import atomic_numbers, atomic_masses, chemical_symbols"
   ]
  },
  {
   "cell_type": "markdown",
   "id": "3d5fc61d-8ebe-49d2-9e75-908497c4c492",
   "metadata": {},
   "source": [
    "Utility function for exporting (molecular) ions into a simple HDF5 file."
   ]
  },
  {
   "cell_type": "code",
   "execution_count": null,
   "id": "393923ae-0736-4de9-94cc-9a0b1a47b56c",
   "metadata": {
    "jupyter": {
     "source_hidden": true
    },
    "tags": []
   },
   "outputs": [],
   "source": [
    "def simple_hfive_file(fpw, idx, mion):\n",
    "    \"\"\"Write specific content in existent and opened HDF5 file pointed to by fpw with write access.\"\"\"\n",
    "    trg = f\"/entry1/ion{idx}\"\n",
    "    grp = fpw.create_group(trg)\n",
    "    grp.attrs[\"NX_class\"] = \"NXion\"\n",
    "    dst = fpw.create_dataset(f\"{trg}/comment\", data=ion.comment.typed_value)\n",
    "    dst = fpw.create_dataset(f\"{trg}/color\", data=ion.color.typed_value)\n",
    "    # dst = fpw.create_dataset(f\"{trg}/volume\", dtype=np.float32, data=0.)\n",
    "    # dst.attrs[\"unit\"] = \"nm^3\"\n",
    "    dst = fpw.create_dataset(f\"{trg}/isotope_vector\", dtype=np.uint16,\n",
    "                             data=ion.isotope_vector.typed_value, \n",
    "                             chunks=True, compression=\"gzip\", compression_opts=1)\n",
    "    dst = fpw.create_dataset(f\"{trg}/nuclid_list\", dtype=np.uint16,\n",
    "                             data=ion.nuclid_list.typed_value,\n",
    "                             chunks=True, compression=\"gzip\", compression_opts=1)\n",
    "    dst = fpw.create_dataset(f\"{trg}/charge_state\", dtype=np.int8,\n",
    "                             data=ion.charge_state.typed_value)\n",
    "    dst = fpw.create_dataset(f\"{trg}/name\", data=ion.name.typed_value)\n",
    "    dst = fpw.create_dataset(trg+ \"/mass_to_charge_range\", dtype=np.float32,\n",
    "                             data=ion.ranges.typed_value)\n",
    "    dst.attrs[\"unit\"] = \"Da\"\n",
    "    subgrpnm = f\"{trg}/charge_state_model\"\n",
    "    subgrp = fpw.create_group(subgrpnm)\n",
    "    subgrp.attrs[\"NX_class\"] = \"NXprocess\"\n",
    "    dst = fpw.create_dataset(f\"{subgrpnm}/min_abundance\", dtype=np.float64,\n",
    "                             data=ion.charge_state_model[\"min_abundance\"])\n",
    "    dst = fpw.create_dataset(f\"{subgrpnm}/min_abundance_product\", dtype=np.float64,\n",
    "                             data=ion.charge_state_model[\"min_abundance_product\"])\n",
    "    dst = fpw.create_dataset(f\"{subgrpnm}/min_half_life\", dtype=np.float64,\n",
    "                             data=ion.charge_state_model[\"min_half_life\"])\n",
    "    dst.attrs[\"unit\"] = \"s\"\n",
    "    dst = fpw.create_dataset(f\"{subgrpnm}/sacrifice_isotopic_uniqueness\", dtype=np.uint8,\n",
    "                             data=ion.charge_state_model[\"sacrifice_isotopic_uniqueness\"])\n",
    "    dst = fpw.create_dataset(f\"{subgrpnm}/isotope_matrix\", dtype=np.uint16,\n",
    "                             data=ion.charge_state_model[\"isotope_matrix\"],\n",
    "                             chunks=True, compression=\"gzip\", compression_opts=1)\n",
    "    dst = fpw.create_dataset(f\"{subgrpnm}/charge_state_vector\", dtype=np.int8,\n",
    "                             data=ion.charge_state_model[\"charge_state_vector\"])\n",
    "    dst = fpw.create_dataset(f\"{subgrpnm}/mass_vector\", dtype=np.float64,\n",
    "                             data=ion.charge_state_model[\"mass_vector\"])\n",
    "    dst.attrs[\"unit\"] = \"Da\"\n",
    "    dst = fpw.create_dataset(f\"{subgrpnm}/nat_abun_prod_vector\", dtype=np.float64,\n",
    "                             data=ion.charge_state_model[\"nat_abun_prod_vector\"])\n",
    "    dst = fpw.create_dataset(f\"{subgrpnm}/min_half_life_vector\", dtype=np.float64,\n",
    "                             data=ion.charge_state_model[\"min_half_life_vector\"])\n",
    "    dst.attrs[\"unit\"] = \"s\""
   ]
  },
  {
   "cell_type": "markdown",
   "id": "f3564971-4163-464a-a49e-264a79602a37",
   "metadata": {},
   "source": [
    "***"
   ]
  },
  {
   "cell_type": "markdown",
   "id": "523ccf70-b115-4717-9007-bd13ff86a2a5",
   "metadata": {
    "jp-MarkdownHeadingCollapsed": true,
    "tags": []
   },
   "source": [
    "## GPM/Rouen ENV system files"
   ]
  },
  {
   "cell_type": "markdown",
   "id": "ad2b00d4-99b6-4e1a-a7cc-e48e6de843e1",
   "metadata": {},
   "source": [
    "<div class=\"alert alert-block alert-danger\">An ENV file has to be formatted using the UTF8 character encoding for this reader to function!</div>"
   ]
  },
  {
   "cell_type": "code",
   "execution_count": null,
   "id": "d239daae-b751-4f18-96c9-1f1e87ffacb6",
   "metadata": {},
   "outputs": [],
   "source": [
    "prefix = f\"{os.getcwd()}/data/env/examples_without_provenance\"\n",
    "fnm = [\"ErMnO.env\"]"
   ]
  },
  {
   "cell_type": "code",
   "execution_count": null,
   "id": "8203e807-847d-45bd-853a-3adfb7dcb1b1",
   "metadata": {},
   "outputs": [],
   "source": [
    "from ifes_apt_tc_data_modeling.env.env_reader import ReadEnvFileFormat"
   ]
  },
  {
   "cell_type": "code",
   "execution_count": null,
   "id": "6b5b4e1f-847a-4579-bef1-15ba2fe0faf4",
   "metadata": {},
   "outputs": [],
   "source": [
    "env = ReadEnvFileFormat(f\"{prefix}/{fnm[0]}\")\n",
    "for m_ion in env.env[\"molecular_ions\"]:\n",
    "    m_ion.report()"
   ]
  },
  {
   "cell_type": "markdown",
   "id": "e680a9d0-4005-40b0-ab45-a8f5fb215273",
   "metadata": {
    "jp-MarkdownHeadingCollapsed": true,
    "tags": []
   },
   "source": [
    "## FAU/Erlangen pyccapt control/calibration/ranging HDF5 files"
   ]
  },
  {
   "cell_type": "code",
   "execution_count": null,
   "id": "2378059c-dae4-46e8-88b0-9fd1ac8a5a70",
   "metadata": {
    "scrolled": true
   },
   "outputs": [],
   "source": [
    "# eventually change needed point to the location of the files to analyze\n",
    "prefix = f\"{os.getcwd()}/data/env/examples_without_provenance\"\n",
    "fnm = [\"1748_Nov-14-2023_13-31_Al.h5\", \"1748_Al.h5\", \"1748_Al_range_.h5\"]\n",
    "# df = pd.read_hdf(f\"{prefix}/{fnm[1]}\")\n",
    "# H5Web(f\"{prefix}/{fnm[1]}\")"
   ]
  },
  {
   "cell_type": "code",
   "execution_count": null,
   "id": "319c3c28-8d4d-46a5-bb73-7a8396d84020",
   "metadata": {},
   "outputs": [],
   "source": [
    "from ifes_apt_tc_data_modeling.pyccapt.pyccapt_reader import ReadPyccaptControlFileFormat, ReadPyccaptCalibrationFileFormat, ReadPyccaptRangingFileFormat"
   ]
  },
  {
   "cell_type": "code",
   "execution_count": null,
   "id": "e7178b8b-51f7-4270-acbe-77844692477b",
   "metadata": {},
   "outputs": [],
   "source": [
    "# the actual measurement (comparable to LEAP's STR/RRAW/RHIT/HITS)\n",
    "pyc_m = ReadPyccaptControlFileFormat(f\"{prefix}/{fnm[0]}\")\n",
    "\n",
    "# the calibrations (voltage, bowl, m/q, comparable to LEAP's ROOT and POS/EPOS)\n",
    "pyc_c = ReadPyccaptCalibrationFileFormat(f\"{prefix}/{fnm[1]}\")\n",
    "xyz = pyc_c.get_reconstructed_positions()\n",
    "print(xyz.typed_value)\n",
    "m_q = pyc_c.get_mass_to_charge_state_ratio()\n",
    "print(m_q.typed_value)\n",
    "\n",
    "# the ranging definitions (comparable to RNG/RRNG)\n",
    "pyc_r = ReadPyccaptRangingFileFormat(f\"{prefix}/{fnm[2]}\")"
   ]
  },
  {
   "cell_type": "markdown",
   "id": "52294143-78c7-47bf-b39e-9e40eec3999d",
   "metadata": {
    "jp-MarkdownHeadingCollapsed": true,
    "tags": []
   },
   "source": [
    "## ATO"
   ]
  },
  {
   "cell_type": "code",
   "execution_count": null,
   "id": "0d1f9d2f-ca12-4d74-9664-08a722d24c46",
   "metadata": {},
   "outputs": [],
   "source": [
    "prefix = f\"{os.getcwd()}/data/ato/examples_without_provenance\"\n",
    "fnm = [\"Si.epos.v3.ATO\", \"Si.epos.v5.ATO\"]\n",
    "for fpath in fnm:\n",
    "    print(os.path.getsize(f\"{prefix}/{fpath}\"))"
   ]
  },
  {
   "cell_type": "code",
   "execution_count": null,
   "id": "f1c42976-c225-40f4-9797-bfcc0d566012",
   "metadata": {},
   "outputs": [],
   "source": [
    "from ifes_apt_tc_data_modeling.ato.ato_reader import ReadAtoFileFormat"
   ]
  },
  {
   "cell_type": "code",
   "execution_count": null,
   "id": "b2a4eb3b-0a08-47a6-913b-cf4178e6bb24",
   "metadata": {},
   "outputs": [],
   "source": [
    "for fpath in fnm:\n",
    "    print(f\"{prefix}/{fpath}\")\n",
    "    ato = ReadAtoFileFormat(f\"{prefix}/{fpath}\")\n",
    "    \n",
    "    xyz = ato.get_reconstructed_positions()\n",
    "    print(xyz.typed_value)\n",
    "    m_q = ato.get_mass_to_charge_state_ratio()\n",
    "    print(m_q.typed_value)"
   ]
  },
  {
   "cell_type": "markdown",
   "id": "83369dab-5ce9-4c9e-810e-58e9f8bb93cc",
   "metadata": {
    "tags": []
   },
   "source": [
    "## Matlab FIG"
   ]
  },
  {
   "cell_type": "markdown",
   "id": "befb0874-1c4a-4967-b2f2-88d57df2aef9",
   "metadata": {},
   "source": [
    "<div class=\"alert alert-block alert-danger\">A Matlab FIG has to be first processed using the matlab_fig_to_txt.m script for this reader to function!</div>"
   ]
  },
  {
   "cell_type": "code",
   "execution_count": null,
   "id": "67356936-1f5e-4363-9b3e-2e9b849aeb32",
   "metadata": {},
   "outputs": [],
   "source": [
    "prefix = f\"{os.getcwd()}/data/fig/examples_without_provenance/ger_erlangen_felfer\"\n",
    "fnm = [\"R56_01769.rng.fig.txt\"]"
   ]
  },
  {
   "cell_type": "code",
   "execution_count": null,
   "id": "0baf8109-e03a-4141-91d1-38da86f05df5",
   "metadata": {},
   "outputs": [],
   "source": [
    "from ifes_apt_tc_data_modeling.fig.fig_reader import ReadFigTxtFileFormat"
   ]
  },
  {
   "cell_type": "code",
   "execution_count": null,
   "id": "32845a28-d656-4af5-b8a7-aa6fd15bebc5",
   "metadata": {
    "tags": []
   },
   "outputs": [],
   "source": [
    "for fpath in fnm:\n",
    "    if fpath.lower().endswith(\".fig.txt\"):\n",
    "        print(fpath)\n",
    "        figtxt = ReadFigTxtFileFormat(f\"{prefix}/{fpath}\")\n",
    "        with h5py.File(f\"{prefix}/{fpath}.nxs\", \"w\") as h5w:\n",
    "            h5w.create_group(\"/entry1\")\n",
    "            idx = 1\n",
    "            for ion in figtxt.fig[\"molecular_ions\"]:\n",
    "                simple_hfive_file(h5w, idx, ion)\n",
    "                idx += 1"
   ]
  },
  {
   "cell_type": "markdown",
   "id": "3df01841-cfb6-410f-8af8-3dc1cd200987",
   "metadata": {},
   "source": [
    "Display generated HDF5 file using H5Web."
   ]
  },
  {
   "cell_type": "code",
   "execution_count": null,
   "id": "535f5a77-8f48-4573-8f4f-1a1520ad059c",
   "metadata": {},
   "outputs": [],
   "source": [
    "H5Web(f\"{prefix}/{fpath}.nxs\")"
   ]
  },
  {
   "cell_type": "markdown",
   "id": "e045474d-0801-4686-abf3-1463771e2ddf",
   "metadata": {
    "tags": []
   },
   "source": [
    "## RRNG"
   ]
  },
  {
   "cell_type": "code",
   "execution_count": null,
   "id": "511fa6d8-de91-413c-af9b-71723c1b2ec9",
   "metadata": {},
   "outputs": [],
   "source": [
    "prefix = f\"{os.getcwd()}/data/rrng/examples_without_provenance/ger_duesseldorf_kuehbach\"\n",
    "fnm = [\"R31_06365-v02.rrng\"]"
   ]
  },
  {
   "cell_type": "code",
   "execution_count": null,
   "id": "9298da11-00d1-45c9-9bb1-d17737c20c49",
   "metadata": {},
   "outputs": [],
   "source": [
    "from ifes_apt_tc_data_modeling.rrng.rrng_reader import ReadRrngFileFormat"
   ]
  },
  {
   "cell_type": "code",
   "execution_count": null,
   "id": "5e6901de-c5ec-4b5b-8d94-4deaa15f89e7",
   "metadata": {
    "tags": []
   },
   "outputs": [],
   "source": [
    "for fpath in fnm:\n",
    "    if fpath.lower().endswith(\".rrng\"):\n",
    "        print(fpath)\n",
    "        rrng = ReadRrngFileFormat(f\"{prefix}/{fpath}\")\n",
    "        with h5py.File(f\"{prefix}/{fpath}.nxs\", \"w\") as h5w:\n",
    "            h5w.create_group(\"/entry1\")\n",
    "            idx = 1\n",
    "            for ion in rrng.rrng[\"molecular_ions\"]:\n",
    "                simple_hfive_file(h5w, idx, ion)\n",
    "                idx += 1"
   ]
  },
  {
   "cell_type": "code",
   "execution_count": null,
   "id": "130da751-6a8a-43b4-9879-be2dbad5c8dd",
   "metadata": {},
   "outputs": [],
   "source": [
    "H5Web(f\"{prefix}/{fpath}.nxs\")"
   ]
  },
  {
   "cell_type": "markdown",
   "id": "9ea7c00f-e3f4-4ac1-bfd5-449303a702a1",
   "metadata": {
    "tags": []
   },
   "source": [
    "## RNG"
   ]
  },
  {
   "cell_type": "code",
   "execution_count": null,
   "id": "07e2fb8e-1953-4780-90ba-1c8e69d8989a",
   "metadata": {},
   "outputs": [],
   "source": [
    "prefix = f\"{os.getcwd()}/data/rng/examples_without_provenance/ger_duesseldorf_kuehbach\"\n",
    "fnm = [\"SeHoKim_R5076_44076_v02.rng\"]"
   ]
  },
  {
   "cell_type": "code",
   "execution_count": null,
   "id": "7dbf60e5-6c02-40d6-a2d7-72a8c96bda87",
   "metadata": {},
   "outputs": [],
   "source": [
    "from ifes_apt_tc_data_modeling.rng.rng_reader import ReadRngFileFormat"
   ]
  },
  {
   "cell_type": "code",
   "execution_count": null,
   "id": "7fba02a1-e60c-4797-9ade-332138fe72d7",
   "metadata": {
    "tags": []
   },
   "outputs": [],
   "source": [
    "for fpath in fnm:\n",
    "    if fpath.lower().endswith(\".rng\"):\n",
    "        print(fpath)\n",
    "        rng = ReadRngFileFormat(f\"{prefix}/{fpath}\")\n",
    "        with h5py.File(f\"{directory}/{filename}.nxs\", \"w\") as h5w:\n",
    "            h5w.create_group(\"/entry\")\n",
    "            idx = 1\n",
    "            for ion in rng.rng[\"molecular_ions\"]:\n",
    "                simple_hfive_file(h5w, idx, ion)\n",
    "                idx += 1"
   ]
  },
  {
   "cell_type": "code",
   "execution_count": null,
   "id": "d50d0c2a-c08a-4b47-ba53-85a6e07838e2",
   "metadata": {},
   "outputs": [],
   "source": [
    "H5Web(f\"{prefix}/{fpath}.nxs\")"
   ]
  },
  {
   "cell_type": "markdown",
   "id": "0ab488b6-ddb3-4507-8f4e-de1c425106d6",
   "metadata": {
    "tags": []
   },
   "source": [
    "## POS"
   ]
  },
  {
   "cell_type": "code",
   "execution_count": null,
   "id": "2aa99006-ec67-4a67-a06a-e0417a6e4bf3",
   "metadata": {},
   "outputs": [],
   "source": [
    "prefix = f\"{os.getcwd()}/data/pos/examples_without_provenance\"\n",
    "fnm = [\"R31_06365-v02.pos\"]"
   ]
  },
  {
   "cell_type": "code",
   "execution_count": null,
   "id": "4d2e7622-ea40-4055-921d-5a36cc1a6081",
   "metadata": {},
   "outputs": [],
   "source": [
    "from ifes_apt_tc_data_modeling.pos.pos_reader import ReadPosFileFormat"
   ]
  },
  {
   "cell_type": "code",
   "execution_count": null,
   "id": "68393998-0b36-4527-b507-6a45905f4e3d",
   "metadata": {},
   "outputs": [],
   "source": [
    "for fpath in fnm:\n",
    "    pos = ReadPosFileFormat(f\"{prefix}/{fpath}\")\n",
    "    print(pos.filename)\n",
    "    print(pos.filesize)\n",
    "    xyz = pos.get_reconstructed_positions()\n",
    "    print(np.shape(xyz.typed_value))\n",
    "    mq = pos.get_mass_to_charge_state_ratio()\n",
    "    print(np.shape(mq.typed_value))"
   ]
  },
  {
   "cell_type": "markdown",
   "id": "6c15a0a4-b22e-4d97-9ba1-b58d38fa84d9",
   "metadata": {
    "tags": []
   },
   "source": [
    "## ePOS"
   ]
  },
  {
   "cell_type": "code",
   "execution_count": null,
   "id": "4b4e8c10-4b69-492e-ab21-e6f81cce91be",
   "metadata": {},
   "outputs": [],
   "source": [
    "prefix = f\"{os.getcwd()}/data/epos/examples_without_provenance\"\n",
    "fnm = [\"R18_58152-v02.epos\"]"
   ]
  },
  {
   "cell_type": "code",
   "execution_count": null,
   "id": "b76a25f7-f87a-4c50-aa08-8a620da466cc",
   "metadata": {},
   "outputs": [],
   "source": [
    "from ifes_apt_tc_data_modeling.epos.epos_reader import ReadEposFileFormat"
   ]
  },
  {
   "cell_type": "code",
   "execution_count": null,
   "id": "923f5022-2cce-4035-a405-ad63a8278a53",
   "metadata": {},
   "outputs": [],
   "source": [
    "for fpath in fnm:\n",
    "    epos = ReadEposFileFormat(f\"{prefix}/{fpath}\")\n",
    "    print(epos.filename)\n",
    "    print(epos.filesize)\n",
    "    xyz = epos.get_reconstructed_positions()\n",
    "    print(np.shape(xyz.typed_value))\n",
    "    mq = epos.get_mass_to_charge_state_ratio()\n",
    "    print(np.shape(mq.typed_value))\n",
    "    raw_tof = epos.get_raw_time_of_flight()\n",
    "    print(np.shape(raw_tof.typed_value))\n",
    "    st_v = epos.get_standing_voltage()\n",
    "    print(np.shape(st_v.typed_value))\n",
    "    p_v = epos.get_pulse_voltage()\n",
    "    print(np.shape(p_v.typed_value))\n",
    "    det_xy = epos.get_hit_positions()\n",
    "    print(np.shape(det_xy.typed_value))\n",
    "    n_p = epos.get_number_of_pulses()\n",
    "    print(np.shape(n_p.typed_value))\n",
    "    h_p = epos.get_ions_per_pulse()\n",
    "    print(np.shape(h_p.typed_value))"
   ]
  },
  {
   "cell_type": "markdown",
   "id": "8783c551-27b2-4902-93c4-2187b1ba0fab",
   "metadata": {
    "tags": []
   },
   "source": [
    "## APT"
   ]
  },
  {
   "cell_type": "code",
   "execution_count": null,
   "id": "1d9ff170-6dea-4e4f-affc-3e3ad3a73c62",
   "metadata": {},
   "outputs": [],
   "source": [
    "prefix = f\"{os.getcwd()}/data/apt/examples_without_provenance\"\n",
    "fnm = [\"70_50_50.apt\"]"
   ]
  },
  {
   "cell_type": "code",
   "execution_count": null,
   "id": "420ca252-0566-48c0-bf0e-82303c0f8eff",
   "metadata": {},
   "outputs": [],
   "source": [
    "from ifes_apt_tc_data_modeling.apt.apt6_reader import ReadAptFileFormat"
   ]
  },
  {
   "cell_type": "code",
   "execution_count": null,
   "id": "441fbc57-3cac-485e-88c8-917f0f9be7d0",
   "metadata": {},
   "outputs": [],
   "source": [
    "for fpath in fnm:\n",
    "    apt = ReadAptFileFormat(f\"{prefix}/{fpath}\")\n",
    "    print(apt.get_metadata_table())\n",
    "    xyz = apt.get_reconstructed_positions()\n",
    "    print(np.shape(xyz.typed_value))\n",
    "    mq = apt.get_mass_to_charge_state_ratio()\n",
    "    print(np.shape(mq.typed_value))"
   ]
  },
  {
   "cell_type": "markdown",
   "id": "deefbfcf-ab9a-4ced-a470-09b972b769af",
   "metadata": {
    "tags": []
   },
   "source": [
    "## Low-level stuff testing the library"
   ]
  },
  {
   "cell_type": "code",
   "execution_count": null,
   "id": "80b197e0-3398-46ae-a920-9b14a06deb11",
   "metadata": {
    "tags": []
   },
   "outputs": [],
   "source": [
    "# ivec = create_isotope_vector(['K-40', 'Xe-126'])  # , 'U', 'H'])\n",
    "# ivec = create_isotope_vector(['Tc', 'H', 'H'])  # 'C'])\n",
    "# ivec = create_isotope_vector(['B', 'B', 'B', 'N', 'N', 'Ti'])  # 'N', 'N'])\n",
    "# ivec = create_isotope_vector([])\n",
    "ivec = create_isotope_vector(['O', 'O', 'O', 'O'])\n",
    "ivec = create_isotope_vector(['Fe', 'Fe', 'O', 'O', 'O', 'O', 'O'])\n",
    "# ivec = create_isotope_vector(['X'])\n",
    "print(ivec)\n",
    "# print(isotope_vector_to_dict_keyword(ivec))\n",
    "# print(isotope_vector_to_human_readable_name(ivec, +4))"
   ]
  },
  {
   "cell_type": "markdown",
   "id": "94015e81-cd8a-4f00-806f-bdf77251ea5c",
   "metadata": {
    "tags": []
   },
   "source": [
    "## Take the information available in every range file."
   ]
  },
  {
   "cell_type": "code",
   "execution_count": null,
   "id": "effca875-5883-495d-8f4c-b3a9da425f23",
   "metadata": {
    "tags": []
   },
   "outputs": [],
   "source": [
    "ion = NxIon(isotope_vector=ivec, charge=0)\n",
    "# ion.add_range((np.floor(atomic_masses[43]) - 2.)*0.5, (np.floor(atomic_masses[43]) + 4.)*0.5)\n",
    "# ion.add_range(20.2840, 20.3680)\n",
    "# ion.add_range(54.9540, 54.9630)\n",
    "# ion.add_range(32.0050,  32.1370)\n",
    "# ion.add_range(32.4280,  32.4910)\n",
    "# ion.add_range(32.9600,  33.0640)\n",
    "# ion.add_range(33.9720,  34.0380)\n",
    "# ion.add_range(175.8060, 176.2460)\n",
    "ion.add_range(95.6540, 96.1780)\n",
    "# ion.add_range(10.5, 13.5)\n",
    "# ion.add_range(13.0, 13.3)  # should not be prevented because this is equivalent to ion.add_range(10.0, 13.3)\n",
    "ion.report()"
   ]
  },
  {
   "cell_type": "code",
   "execution_count": null,
   "id": "fb47d42c-43a9-4e6d-a253-97848f107623",
   "metadata": {
    "tags": []
   },
   "outputs": [],
   "source": [
    "mion = MolecularIonBuilder(min_abundance=0.,\n",
    "                           min_abundance_product=0.,\n",
    "                           min_half_life=np.inf,\n",
    "                           sacrifice_uniqueness=True,\n",
    "                           verbose=True)\n",
    "mion.combinatorics(\n",
    "    ion.isotope_vector.typed_value,\n",
    "    ion.ranges.typed_value[0, 0],\n",
    "    ion.ranges.typed_value[0, 1])"
   ]
  },
  {
   "cell_type": "code",
   "execution_count": null,
   "id": "6cbeec5c-c6df-493d-8348-16bcdbf08cf9",
   "metadata": {},
   "outputs": [],
   "source": [
    "p, n = hash_to_isotope(1)\n",
    "print(f\"{p}, {n}\")"
   ]
  },
  {
   "cell_type": "markdown",
   "id": "01d8ecc4-655c-4ed5-84b4-dd4d3721a708",
   "metadata": {},
   "source": [
    "***\n",
    "Markus Kühbach, 2023/12/29<br>\n",
    "<br>\n",
    "<a href=\"https://www.fairmat-nfdi.eu/fairmat\">FAIRmat</a> is a consortium on research data management which is part of the German NFDI.<br>\n",
    "The project is funded by the Deutsche Forschungsgemeinschaft (DFG, German Research Foundation) – project 460197019."
   ]
  },
  {
   "cell_type": "code",
   "execution_count": null,
   "id": "d0019086-a921-4a46-9cf0-d32439dea968",
   "metadata": {},
   "outputs": [],
   "source": []
  }
 ],
 "metadata": {
  "kernelspec": {
   "display_name": "Python 3 (ipykernel)",
   "language": "python",
   "name": "python3"
  },
  "language_info": {
   "codemirror_mode": {
    "name": "ipython",
    "version": 3
   },
   "file_extension": ".py",
   "mimetype": "text/x-python",
   "name": "python",
   "nbconvert_exporter": "python",
   "pygments_lexer": "ipython3",
   "version": "3.10.13"
  }
 },
 "nbformat": 4,
 "nbformat_minor": 5
}
